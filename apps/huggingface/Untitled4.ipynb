{
 "cells": [
  {
   "cell_type": "code",
   "execution_count": 1,
   "metadata": {},
   "outputs": [],
   "source": [
    "import tvm"
   ]
  },
  {
   "cell_type": "code",
   "execution_count": 2,
   "metadata": {},
   "outputs": [],
   "source": [
    "from tvm import relay"
   ]
  },
  {
   "cell_type": "code",
   "execution_count": 3,
   "metadata": {},
   "outputs": [],
   "source": [
    "import scipy.sparse as sp\n",
    "import numpy as np"
   ]
  },
  {
   "cell_type": "code",
   "execution_count": 28,
   "metadata": {},
   "outputs": [],
   "source": [
    "with open(\"./prunebert.params\", \"rb\") as fi:\n",
    "    param = relay.load_param_dict(fi.read())"
   ]
  },
  {
   "cell_type": "code",
   "execution_count": 29,
   "metadata": {},
   "outputs": [],
   "source": [
    "with open(\"./prunebert.json\") as fi:\n",
    "    func = tvm.ir.load_json(fi.read())[\"main\"]"
   ]
  },
  {
   "cell_type": "code",
   "execution_count": 30,
   "metadata": {},
   "outputs": [],
   "source": [
    "new_f, new_param = relay.data_dep_optimization.simplify_fc_transpose.convert(func, param)"
   ]
  },
  {
   "cell_type": "code",
   "execution_count": 7,
   "metadata": {},
   "outputs": [],
   "source": [
    "input_name = \"input_ids\"\n",
    "input_shape = (1, 128)\n",
    "input_dtype = \"int64\""
   ]
  },
  {
   "cell_type": "code",
   "execution_count": 8,
   "metadata": {},
   "outputs": [],
   "source": [
    "inputs = {input_name : tvm.nd.array(np.random.randint(0, 10000, size=input_shape).astype(input_dtype))}"
   ]
  },
  {
   "cell_type": "code",
   "execution_count": 9,
   "metadata": {},
   "outputs": [],
   "source": [
    "def time_running(mod, params, inputs):\n",
    "    with relay.build_config(opt_level=3):\n",
    "        graph, lib, new_params = relay.build(mod, \"llvm -mcpu=core-avx2\", params=params)\n",
    "\n",
    "    from tvm.contrib import graph_runtime\n",
    "    #from tvm.contrib.debugger import debug_runtime as graph_runtime\n",
    "    ctx = tvm.cpu(0)\n",
    "    dtype = 'float32'\n",
    "    m = graph_runtime.create(graph, lib, ctx)\n",
    "    # set inputs\n",
    "    m.set_input(**inputs)\n",
    "    m.set_input(**new_params)\n",
    "    # execute\n",
    "    m.run()\n",
    "    # get outputs\n",
    "    tvm_output = m.get_output(0)\n",
    "    ftimer = m.module.time_evaluator(\"run\", tvm.cpu(), min_repeat_ms=1000, repeat=20)\n",
    "    args = [v for _, v in inputs.items()]\n",
    "    results = ftimer(*args)\n",
    "    return results, tvm_output.asnumpy()"
   ]
  },
  {
   "cell_type": "code",
   "execution_count": 10,
   "metadata": {},
   "outputs": [
    {
     "output_type": "stream",
     "name": "stderr",
     "text": "Cannot find config for target=llvm -mcpu=core-avx2, workload=('dense_nopack.x86', ('TENSOR', (1, 768), 'float32'), ('TENSOR', (2, 768), 'float32'), None, 'float32'). A fallback configuration is used, which may bring great performance regression.\nCannot find config for target=llvm -mcpu=core-avx2, workload=('dense_nopack.x86', ('TENSOR', (1, 768), 'float32'), ('TENSOR', (768, 768), 'float32'), None, 'float32'). A fallback configuration is used, which may bring great performance regression.\nCannot find config for target=llvm -mcpu=core-avx2, workload=('dense_nopack.x86', ('TENSOR', (128, 3072), 'float32'), ('TENSOR', (768, 3072), 'float32'), None, 'float32'). A fallback configuration is used, which may bring great performance regression.\nCannot find config for target=llvm -mcpu=core-avx2, workload=('dense_pack.x86', ('TENSOR', (128, 3072), 'float32'), ('TENSOR', (768, 3072), 'float32'), None, 'float32'). A fallback configuration is used, which may bring great performance regression.\nCannot find config for target=llvm -mcpu=core-avx2, workload=('dense_nopack.x86', ('TENSOR', (128, 768), 'float32'), ('TENSOR', (3072, 768), 'float32'), None, 'float32'). A fallback configuration is used, which may bring great performance regression.\nCannot find config for target=llvm -mcpu=core-avx2, workload=('dense_pack.x86', ('TENSOR', (128, 768), 'float32'), ('TENSOR', (3072, 768), 'float32'), None, 'float32'). A fallback configuration is used, which may bring great performance regression.\nCannot find config for target=llvm -mcpu=core-avx2, workload=('dense_nopack.x86', ('TENSOR', (128, 768), 'float32'), ('TENSOR', (768, 768), 'float32'), None, 'float32'). A fallback configuration is used, which may bring great performance regression.\nCannot find config for target=llvm -mcpu=core-avx2, workload=('dense_pack.x86', ('TENSOR', (128, 768), 'float32'), ('TENSOR', (768, 768), 'float32'), None, 'float32'). A fallback configuration is used, which may bring great performance regression.\nCannot find config for target=llvm -mcpu=core-avx2, workload=('batch_matmul.x86', ('TENSOR', (12, 128, 128), 'float32'), ('TENSOR', (12, 64, 128), 'float32')). A fallback configuration is used, which may bring great performance regression.\nCannot find config for target=llvm -mcpu=core-avx2, workload=('batch_matmul.x86', ('TENSOR', (12, 128, 64), 'float32'), ('TENSOR', (12, 128, 64), 'float32')). A fallback configuration is used, which may bring great performance regression.\nDense time: 137.71979967999997 ms\n"
    }
   ],
   "source": [
    "dense_t_time, dense_t_output = time_running(new_f, new_param, inputs)\n",
    "print(\"Dense time: {tt} ms\".format(tt=dense_t_time.mean * 10 ** 3))"
   ]
  },
  {
   "cell_type": "code",
   "execution_count": 11,
   "metadata": {},
   "outputs": [],
   "source": [
    "blocksize = (16, 1)"
   ]
  },
  {
   "cell_type": "code",
   "execution_count": 16,
   "metadata": {},
   "outputs": [
    {
     "output_type": "error",
     "ename": "KeyError",
     "evalue": "'1852.T'",
     "traceback": [
      "\u001b[0;31m---------------------------------------------------------------------------\u001b[0m",
      "\u001b[0;31mKeyError\u001b[0m                                  Traceback (most recent call last)",
      "\u001b[0;32m<ipython-input-16-531294dd5081>\u001b[0m in \u001b[0;36m<module>\u001b[0;34m\u001b[0m\n\u001b[1;32m      2\u001b[0m                                                                      \u001b[0mnew_param\u001b[0m\u001b[0;34m,\u001b[0m\u001b[0;34m\u001b[0m\u001b[0;34m\u001b[0m\u001b[0m\n\u001b[1;32m      3\u001b[0m                                                                      \u001b[0mblocksize\u001b[0m\u001b[0;34m,\u001b[0m\u001b[0;34m\u001b[0m\u001b[0;34m\u001b[0m\u001b[0m\n\u001b[0;32m----> 4\u001b[0;31m                                                                      sparsity_threshold=0.8)\n\u001b[0m",
      "\u001b[0;32m~/octoml/tvm/python/tvm/relay/data_dep_optimization/bsr_dense.py\u001b[0m in \u001b[0;36mconvert\u001b[0;34m(func, params, blocksize, sparsity_threshold)\u001b[0m\n\u001b[1;32m     47\u001b[0m         \u001b[0mNew\u001b[0m \u001b[0mparams\u001b[0m \u001b[0;32mwith\u001b[0m \u001b[0mBSR\u001b[0m \u001b[0mmatrix\u001b[0m \u001b[0;32mfor\u001b[0m \u001b[0mmutated\u001b[0m \u001b[0mExpr\u001b[0m\u001b[0;34m\u001b[0m\u001b[0;34m\u001b[0m\u001b[0m\n\u001b[1;32m     48\u001b[0m     \"\"\"\n\u001b[0;32m---> 49\u001b[0;31m     \u001b[0mweight_info\u001b[0m \u001b[0;34m=\u001b[0m \u001b[0mprocess_params\u001b[0m\u001b[0;34m(\u001b[0m\u001b[0mfunc\u001b[0m\u001b[0;34m,\u001b[0m \u001b[0mparams\u001b[0m\u001b[0;34m,\u001b[0m \u001b[0mblocksize\u001b[0m\u001b[0;34m,\u001b[0m \u001b[0msparsity_threshold\u001b[0m\u001b[0;34m)\u001b[0m\u001b[0;34m\u001b[0m\u001b[0;34m\u001b[0m\u001b[0m\n\u001b[0m\u001b[1;32m     50\u001b[0m     new_func = _run_opt_pass(\n\u001b[1;32m     51\u001b[0m         \u001b[0mfunc\u001b[0m\u001b[0;34m,\u001b[0m\u001b[0;34m\u001b[0m\u001b[0;34m\u001b[0m\u001b[0m\n",
      "\u001b[0;32m~/octoml/tvm/python/tvm/relay/analysis/sparse_dense.py\u001b[0m in \u001b[0;36mprocess_params\u001b[0;34m(expr, params, block_size, sparsity_threshold)\u001b[0m\n\u001b[1;32m     74\u001b[0m     \u001b[0;32mfor\u001b[0m \u001b[0mname\u001b[0m \u001b[0;32min\u001b[0m \u001b[0mweight_names\u001b[0m\u001b[0;34m:\u001b[0m\u001b[0;34m\u001b[0m\u001b[0;34m\u001b[0m\u001b[0m\n\u001b[1;32m     75\u001b[0m         \u001b[0mname\u001b[0m \u001b[0;34m=\u001b[0m \u001b[0mstr\u001b[0m\u001b[0;34m(\u001b[0m\u001b[0mname\u001b[0m\u001b[0;34m)\u001b[0m\u001b[0;34m\u001b[0m\u001b[0;34m\u001b[0m\u001b[0m\n\u001b[0;32m---> 76\u001b[0;31m         \u001b[0mw_np\u001b[0m \u001b[0;34m=\u001b[0m \u001b[0mparams\u001b[0m\u001b[0;34m[\u001b[0m\u001b[0mname\u001b[0m\u001b[0;34m]\u001b[0m\u001b[0;34m.\u001b[0m\u001b[0masnumpy\u001b[0m\u001b[0;34m(\u001b[0m\u001b[0;34m)\u001b[0m\u001b[0;34m\u001b[0m\u001b[0;34m\u001b[0m\u001b[0m\n\u001b[0m\u001b[1;32m     77\u001b[0m         \u001b[0msparsity\u001b[0m \u001b[0;34m=\u001b[0m \u001b[0;36m1.0\u001b[0m \u001b[0;34m-\u001b[0m \u001b[0;34m(\u001b[0m\u001b[0mnp\u001b[0m\u001b[0;34m.\u001b[0m\u001b[0mcount_nonzero\u001b[0m\u001b[0;34m(\u001b[0m\u001b[0mw_np\u001b[0m\u001b[0;34m)\u001b[0m \u001b[0;34m/\u001b[0m \u001b[0mw_np\u001b[0m\u001b[0;34m.\u001b[0m\u001b[0msize\u001b[0m\u001b[0;34m)\u001b[0m\u001b[0;34m\u001b[0m\u001b[0;34m\u001b[0m\u001b[0m\n\u001b[1;32m     78\u001b[0m         \u001b[0;32mif\u001b[0m \u001b[0msparsity\u001b[0m \u001b[0;34m>=\u001b[0m \u001b[0msparsity_threshold\u001b[0m\u001b[0;34m:\u001b[0m\u001b[0;34m\u001b[0m\u001b[0;34m\u001b[0m\u001b[0m\n",
      "\u001b[0;31mKeyError\u001b[0m: '1852.T'"
     ]
    }
   ],
   "source": [
    "bsr_expr, bsr_params = relay.data_dep_optimization.bsr_dense.convert(new_f,\n",
    "                                                                     new_param,\n",
    "                                                                     blocksize,\n",
    "                                                                     sparsity_threshold=0.8)"
   ]
  },
  {
   "cell_type": "code",
   "execution_count": 13,
   "metadata": {},
   "outputs": [
    {
     "output_type": "stream",
     "name": "stdout",
     "text": "BSR (16, 1) time: 131.3992558 ms\n"
    }
   ],
   "source": [
    "bsr_time, bsr_output = time_running(bsr_expr, bsr_params, inputs)\n",
    "print(\"BSR {bs} time: {tt} ms\".format(bs=blocksize, tt=bsr_time.mean * 10 ** 3))"
   ]
  },
  {
   "cell_type": "code",
   "execution_count": 26,
   "metadata": {},
   "outputs": [
    {
     "output_type": "stream",
     "name": "stdout",
     "text": "BSR (2, 1) time: 69.3001828625 ms\n"
    }
   ],
   "source": [
    "blocksize = (2, 1)\n",
    "bsr_expr, bsr_params = relay.data_dep_optimization.bsr_dense.convert(new_f,\n",
    "                                                                     new_param,\n",
    "                                                                     blocksize,\n",
    "                                                                     sparsity_threshold=0.8)\n",
    "bsr_time, bsr_output = time_running(bsr_expr, bsr_params, inputs)\n",
    "print(\"BSR {bs} time: {tt} ms\".format(bs=blocksize, tt=bsr_time.mean * 10 ** 3))"
   ]
  },
  {
   "cell_type": "code",
   "execution_count": 22,
   "metadata": {},
   "outputs": [
    {
     "name": "stdout",
     "output_type": "stream",
     "text": [
      "BSR (32, 1) time: 79.802192384375 ms\n"
     ]
    }
   ],
   "source": [
    "blocksize = (32, 1)\n",
    "bsr_expr, bsr_params = relay.data_dep_optimization.bsr_dense.convert(new_f,\n",
    "                                                                     new_param,\n",
    "                                                                     blocksize,\n",
    "                                                                     sparsity_threshold=0.8)\n",
    "bsr_time, bsr_output = time_running(bsr_expr, bsr_params, inputs)\n",
    "print(\"BSR {bs} time: {tt} ms\".format(bs=blocksize, tt=bsr_time.mean * 10 ** 3))"
   ]
  },
  {
   "cell_type": "code",
   "execution_count": 26,
   "metadata": {},
   "outputs": [
    {
     "name": "stdout",
     "output_type": "stream",
     "text": [
      "BSR (8, 1) time: 84.4655857375 ms\n"
     ]
    }
   ],
   "source": [
    "blocksize = (8, 1)\n",
    "bsr_expr, bsr_params = relay.data_dep_optimization.bsr_dense.convert(new_f,\n",
    "                                                                     new_param,\n",
    "                                                                     blocksize,\n",
    "                                                                     sparsity_threshold=0.8)\n",
    "bsr_time, bsr_output = time_running(bsr_expr, bsr_params, inputs)\n",
    "print(\"BSR {bs} time: {tt} ms\".format(bs=blocksize, tt=bsr_time.mean * 10 ** 3))"
   ]
  },
  {
   "cell_type": "code",
   "execution_count": 30,
   "metadata": {},
   "outputs": [
    {
     "name": "stdout",
     "output_type": "stream",
     "text": [
      "BSR (1, 16) time: 463.27865783 ms\n"
     ]
    }
   ],
   "source": [
    "blocksize = (1, 16)\n",
    "bsr_expr, bsr_params = relay.data_dep_optimization.bsr_dense.convert(new_f,\n",
    "                                                                     new_param,\n",
    "                                                                     blocksize,\n",
    "                                                                     sparsity_threshold=0.8)\n",
    "bsr_time, bsr_output = time_running(bsr_expr, bsr_params, inputs)\n",
    "print(\"BSR {bs} time: {tt} ms\".format(bs=blocksize, tt=bsr_time.mean * 10 ** 3))"
   ]
  },
  {
   "cell_type": "code",
   "execution_count": 31,
   "metadata": {},
   "outputs": [
    {
     "output_type": "stream",
     "name": "stdout",
     "text": "BSR (1, 1) time: 60.39342264411764 ms\n"
    }
   ],
   "source": [
    "blocksize = (1, 1)\n",
    "bsr_expr, bsr_params = relay.data_dep_optimization.bsr_dense.convert(new_f,\n",
    "                                                                     new_param,\n",
    "                                                                     blocksize,\n",
    "                                                                     sparsity_threshold=0.8)\n",
    "bsr_time, bsr_output = time_running(bsr_expr, bsr_params, inputs)\n",
    "print(\"BSR {bs} time: {tt} ms\".format(bs=blocksize, tt=bsr_time.mean * 10 ** 3))"
   ]
  },
  {
   "cell_type": "code",
   "execution_count": 38,
   "metadata": {},
   "outputs": [
    {
     "name": "stdout",
     "output_type": "stream",
     "text": [
      "BSR (4, 4) time: 174.13454849000004 ms\n"
     ]
    }
   ],
   "source": [
    "blocksize = (4, 4)\n",
    "bsr_expr, bsr_params = relay.data_dep_optimization.bsr_dense.convert(new_f,\n",
    "                                                                     new_param,\n",
    "                                                                     blocksize,\n",
    "                                                                     sparsity_threshold=0.8)\n",
    "bsr_time, bsr_output = time_running(bsr_expr, bsr_params, inputs)\n",
    "print(\"BSR {bs} time: {tt} ms\".format(bs=blocksize, tt=bsr_time.mean * 10 ** 3))"
   ]
  },
  {
   "cell_type": "code",
   "execution_count": null,
   "metadata": {},
   "outputs": [],
   "source": []
  }
 ],
 "metadata": {
  "kernelspec": {
   "display_name": "Python 3.7.4 64-bit ('base': conda)",
   "language": "python",
   "name": "python37464bitbaseconda6d258886983445c383e448ab70cdd0ce"
  },
  "language_info": {
   "codemirror_mode": {
    "name": "ipython",
    "version": 3
   },
   "file_extension": ".py",
   "mimetype": "text/x-python",
   "name": "python",
   "nbconvert_exporter": "python",
   "pygments_lexer": "ipython3",
   "version": "3.7.4-final"
  }
 },
 "nbformat": 4,
 "nbformat_minor": 4
}